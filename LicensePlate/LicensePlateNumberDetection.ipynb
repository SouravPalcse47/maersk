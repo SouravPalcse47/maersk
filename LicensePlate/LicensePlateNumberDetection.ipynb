{
 "cells": [
  {
   "cell_type": "code",
   "execution_count": 30,
   "id": "76e1e9e6",
   "metadata": {},
   "outputs": [],
   "source": [
    "import cv2\n",
    "import numpy as np\n",
    "\n",
    "carCascade = cv2.CascadeClassifier('./haarcascades/haarcascade_russian_plate_number.xml')\n",
    "\n",
    "for i in range(1,7):\n",
    "    img_name = 'car'+str(i)+'.jpg'\n",
    "    img = cv2.imread(img_name)\n",
    "\n",
    "    plates = carCascade.detectMultiScale(img,scaleFactor=1.2,\n",
    "        minNeighbors = 5, minSize=(25,25))\n",
    "\n",
    "    for (x,y,w,h) in plates:\n",
    "        cv2.rectangle(img,(x,y),(x+w,y+h),(255,255,0),2)\n",
    "        plate = img[y: y+h, x:x+w]\n",
    "        plate = cv2.blur(plate,ksize=(20,20))\n",
    "        # put the blurred plate into the original image\n",
    "        img[y: y+h, x:x+w] = plate\n",
    "    res_img = 'result'+str(i)+'.jpg'\n",
    "    cv2.imwrite(res_img, img)"
   ]
  },
  {
   "cell_type": "code",
   "execution_count": null,
   "id": "0c4bdd25",
   "metadata": {},
   "outputs": [],
   "source": []
  },
  {
   "cell_type": "code",
   "execution_count": null,
   "id": "797dc118",
   "metadata": {},
   "outputs": [],
   "source": []
  }
 ],
 "metadata": {
  "kernelspec": {
   "display_name": "Python 3",
   "language": "python",
   "name": "python3"
  },
  "language_info": {
   "codemirror_mode": {
    "name": "ipython",
    "version": 3
   },
   "file_extension": ".py",
   "mimetype": "text/x-python",
   "name": "python",
   "nbconvert_exporter": "python",
   "pygments_lexer": "ipython3",
   "version": "3.8.5"
  }
 },
 "nbformat": 4,
 "nbformat_minor": 5
}
